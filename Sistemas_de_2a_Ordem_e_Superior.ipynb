{
  "nbformat": 4,
  "nbformat_minor": 0,
  "metadata": {
    "colab": {
      "name": " Sistemas de 2a  Ordem e Superior",
      "provenance": [],
      "collapsed_sections": [
        "xB4B3nDw8oKR"
      ],
      "mount_file_id": "1FCI--oFqsjwTGmXSYFdPMKez7V1UvR_B",
      "authorship_tag": "ABX9TyMu5FP5fnPoaepxi9GphNQP",
      "include_colab_link": true
    },
    "kernelspec": {
      "name": "python3",
      "display_name": "Python 3"
    }
  },
  "cells": [
    {
      "cell_type": "markdown",
      "metadata": {
        "id": "view-in-github",
        "colab_type": "text"
      },
      "source": [
        "<a href=\"https://colab.research.google.com/github/Emanoeljunior/Control-System/blob/master/Sistemas_de_2a_Ordem_e_Superior.ipynb\" target=\"_parent\"><img src=\"https://colab.research.google.com/assets/colab-badge.svg\" alt=\"Open In Colab\"/></a>"
      ]
    },
    {
      "cell_type": "markdown",
      "metadata": {
        "id": "xB4B3nDw8oKR"
      },
      "source": [
        "##Importando bibliotecas"
      ]
    },
    {
      "cell_type": "code",
      "metadata": {
        "id": "VRX6nymKE9_L",
        "outputId": "f00ae093-e111-496d-babd-f1c6d7d5d666",
        "colab": {
          "base_uri": "https://localhost:8080/"
        }
      },
      "source": [
        "!pip install control"
      ],
      "execution_count": null,
      "outputs": [
        {
          "output_type": "stream",
          "text": [
            "Requirement already satisfied: control in /usr/local/lib/python3.6/dist-packages (0.8.3)\n",
            "Requirement already satisfied: scipy in /usr/local/lib/python3.6/dist-packages (from control) (1.4.1)\n",
            "Requirement already satisfied: numpy in /usr/local/lib/python3.6/dist-packages (from control) (1.18.5)\n",
            "Requirement already satisfied: matplotlib in /usr/local/lib/python3.6/dist-packages (from control) (3.2.2)\n",
            "Requirement already satisfied: python-dateutil>=2.1 in /usr/local/lib/python3.6/dist-packages (from matplotlib->control) (2.8.1)\n",
            "Requirement already satisfied: cycler>=0.10 in /usr/local/lib/python3.6/dist-packages (from matplotlib->control) (0.10.0)\n",
            "Requirement already satisfied: kiwisolver>=1.0.1 in /usr/local/lib/python3.6/dist-packages (from matplotlib->control) (1.2.0)\n",
            "Requirement already satisfied: pyparsing!=2.0.4,!=2.1.2,!=2.1.6,>=2.0.1 in /usr/local/lib/python3.6/dist-packages (from matplotlib->control) (2.4.7)\n",
            "Requirement already satisfied: six>=1.5 in /usr/local/lib/python3.6/dist-packages (from python-dateutil>=2.1->matplotlib->control) (1.15.0)\n"
          ],
          "name": "stdout"
        }
      ]
    },
    {
      "cell_type": "code",
      "metadata": {
        "id": "Lrdgi7xki4Un"
      },
      "source": [
        "# Bibliotecas para uso de imagens\n",
        "from IPython.display import Image\n",
        "# Outras bibliotecas \n",
        "import numpy as np\n",
        "from scipy import signal\n",
        "import matplotlib.pyplot as plt\n",
        "import sympy as sym\n",
        "from sympy.abc import s,t,x,y,z\n",
        "from sympy.integrals import inverse_laplace_transform\n",
        "from scipy.integrate import odeint\n",
        "from sympy import *\n",
        "import control\n",
        "from IPython.display import display, Math, Latex"
      ],
      "execution_count": null,
      "outputs": []
    },
    {
      "cell_type": "markdown",
      "metadata": {
        "id": "gkV5FgCP8W26"
      },
      "source": [
        "#Exercício 1"
      ]
    },
    {
      "cell_type": "code",
      "metadata": {
        "id": "QVMTjwU2_QTZ",
        "outputId": "2b5d80fb-bfe4-4eb6-806f-98e0d1369dae",
        "colab": {
          "base_uri": "https://localhost:8080/",
          "height": 361
        }
      },
      "source": [
        "Image(\"/content/drive/My Drive/Udesc/2020 1/ISC/LAB/imagens/Lab6/ex1.png\", width=500)"
      ],
      "execution_count": null,
      "outputs": [
        {
          "output_type": "execute_result",
          "data": {
            "image/png": "[encoded data removed]",
            "text/plain": [
              "<IPython.core.display.Image object>"
            ]
          },
          "metadata": {
            "tags": [],
            "image/png": {
              "width": 500
            }
          },
          "execution_count": 3
        }
      ]
    },
    {
      "cell_type": "markdown",
      "metadata": {
        "id": "iJSo0pS6QOXh"
      },
      "source": [
        "##Analisando o gráfico"
      ]
    },
    {
      "cell_type": "code",
      "metadata": {
        "id": "2glaeVMs7Rox",
        "outputId": "d417498e-2175-4b45-836c-57ce78b64884",
        "colab": {
          "base_uri": "https://localhost:8080/",
          "height": 119
        }
      },
      "source": [
        "tp1 = 1.1\n",
        "cm = 5-1\n",
        "cf = 4-1\n",
        "wd1= np.pi/tp1\n",
        "os1=100*(cm-cf)/cf\n",
        "z1 = - np.log(os1/100)/np.sqrt(np.pi**2 + np.log(os1/100)**2)\n",
        "wn1= wd1/(np.sqrt(1-z1**2))\n",
        "\n",
        "print(\"wd = \",wd1)\n",
        "print(\"%OS = \",os1)\n",
        "print(\"zeta = \",z1)\n",
        "print(\"wn = \",wn1)\n",
        "print(\"b = \",wn1**2)\n",
        "print(\"a = \",2*wn1*z1)"
      ],
      "execution_count": null,
      "outputs": [
        {
          "output_type": "stream",
          "text": [
            "wd =  2.855993321445266\n",
            "%OS =  33.333333333333336\n",
            "zeta =  0.3300974204390833\n",
            "wn =  3.0255869401077145\n",
            "b =  9.154176332150362\n",
            "a =  1.9974768884874716\n"
          ],
          "name": "stdout"
        }
      ]
    },
    {
      "cell_type": "markdown",
      "metadata": {
        "id": "dxreCLn_5nqg"
      },
      "source": [
        "Obtemos:\n",
        "\n",
        "${T_p = 1,1s \\rightarrow \\omega_d = \\dfrac{\\pi}{T_p} =\\dfrac{\\pi}{1,1} = 2.855993 rad/s}$\n",
        "\n",
        "${\\%OS = \\dfrac{c_{máx}- c_{final}}{c_{final}} \\times 100 =  \\dfrac{ 4- 3}{3} \\times 100 = 33,33\\%}$\n",
        "\n",
        "${\\zeta = \\dfrac{-ln(\\%OS/100)} {\\sqrt{\\pi^2 + ln^2(\\%OS/100)}} = \\dfrac{-ln(33,33\\%/100)} {\\sqrt{\\pi^2 + ln^2(33,33\\%/100)}} =0,3301}$\n",
        "\n",
        "${G = \\dfrac{4-1}{2} = \\dfrac{3}{2}}$\n",
        "\n",
        "${\\omega_n = \\dfrac{\\omega_d}{\\sqrt{ 1 - \\zeta^2} } = 3.0256 rad/s}$\n",
        "\n",
        "${\\dfrac{C(s)}{R(s)} = G \\dfrac{\\omega_n^2}{s^2 + 2\\zeta \\omega_n s + \\omega_n^2} = \\dfrac{3}{2}\\dfrac{9.154}{s^2 + 1,997 s +9.154}}$"
      ]
    },
    {
      "cell_type": "markdown",
      "metadata": {
        "id": "ousCjw5DQFB-"
      },
      "source": [
        "##Plotando os gráficos"
      ]
    },
    {
      "cell_type": "code",
      "metadata": {
        "id": "N52niUKlM77A",
        "outputId": "ba86b2da-ed13-4092-bfd9-bf4bd661a9e5",
        "colab": {
          "base_uri": "https://localhost:8080/",
          "height": 265
        }
      },
      "source": [
        "#Definindo o sistema\n",
        "num1=[9.154*(3/2)]\n",
        "den1=[1, 1.997, 9.154]\n",
        "\n",
        "#Definindo degrau\n",
        "num_step = [2]\n",
        "den_step = [1,0]\n",
        "step = signal.TransferFunction(num_step,den_step)\n",
        "\n",
        "sys_num = signal.convolve(num1,num_step)\n",
        "sys_den = signal.convolve(den1,den_step)\n",
        "\n",
        "t = np.linspace(0,5,100)\n",
        "\n",
        "t,y1 = signal.impulse(signal.TransferFunction(sys_num,sys_den),0,T=t)\n",
        "\n",
        "y1 = y1 + 1\n",
        "\n",
        "t,y_stp = signal.impulse(step,0,t) \n",
        "\n",
        "plt.plot(t+0.5,y_stp, \"--y\", label='degrau')\n",
        "plt.plot(t+0.5, y1,  \"-r\", label='sistema ')\n",
        "plt. legend(loc = 'best')\n",
        "plt.grid(axis='x', color='0.95')\n",
        "\n",
        "plt.show()"
      ],
      "execution_count": null,
      "outputs": [
        {
          "output_type": "display_data",
          "data": {
            "image/png": "[encoded data removed]",
            "text/plain": [
              "<Figure size 432x288 with 1 Axes>"
            ]
          },
          "metadata": {
            "tags": [],
            "needs_background": "light"
          }
        }
      ]
    },
    {
      "cell_type": "code",
      "metadata": {
        "id": "sJ_eRxKIMRnp",
        "outputId": "5d8c3c3b-d9a5-4230-dedd-4e1b90daaf32",
        "colab": {
          "base_uri": "https://localhost:8080/",
          "height": 265
        }
      },
      "source": [
        "#Definindo o sistema\n",
        "num1=[9.154*(3/2)]\n",
        "den1=[1, 1.997, 9.154]\n",
        "\n",
        "#Definindo degrau\n",
        "num_step = [3]\n",
        "den_step = [1,0]\n",
        "step = signal.TransferFunction(num_step,den_step)\n",
        "\n",
        "sys_num = signal.convolve(num1,num_step)\n",
        "sys_den = signal.convolve(den1,den_step)\n",
        "\n",
        "t = np.linspace(0,4.5,100)\n",
        "\n",
        "t,y1 = signal.impulse(signal.TransferFunction(sys_num,sys_den),0,T=t)\n",
        "\n",
        "y1 = y1 + 1\n",
        "\n",
        "t,y_stp = signal.impulse(step,0,t) \n",
        "\n",
        "plt.plot(t+0.5,y_stp, \"--y\", label='degrau')\n",
        "plt.plot(t+0.5, y1,  \"-r\", label='sistema ')\n",
        "plt. legend(loc = 'best')\n",
        "plt.grid(axis='x', color='0.95')\n",
        "\n",
        "plt.show()"
      ],
      "execution_count": null,
      "outputs": [
        {
          "output_type": "display_data",
          "data": {
            "image/png": "[encoded data removed]",
            "text/plain": [
              "<Figure size 432x288 with 1 Axes>"
            ]
          },
          "metadata": {
            "tags": [],
            "needs_background": "light"
          }
        }
      ]
    },
    {
      "cell_type": "code",
      "metadata": {
        "id": "yRgoelL-Nb16",
        "outputId": "c3608eed-3567-4a3e-c289-c91ed268f3c5",
        "colab": {
          "base_uri": "https://localhost:8080/",
          "height": 34
        }
      },
      "source": [
        "100*(6-4.5)/4.5"
      ],
      "execution_count": null,
      "outputs": [
        {
          "output_type": "execute_result",
          "data": {
            "text/plain": [
              "33.333333333333336"
            ]
          },
          "metadata": {
            "tags": []
          },
          "execution_count": 41
        }
      ]
    },
    {
      "cell_type": "markdown",
      "metadata": {
        "id": "Ob4h-nExM-RN"
      },
      "source": [
        "${T_p = 1,1 s}$\n",
        "\n",
        "${\\%OS = \\dfrac{6 - 4.5}{4.5} \\times 100 = 33,33 \\% }$"
      ]
    },
    {
      "cell_type": "markdown",
      "metadata": {
        "id": "DB-UX3RJGXWu"
      },
      "source": [
        "#Exercício 2 \n",
        "\n",
        "\n",
        "\n"
      ]
    },
    {
      "cell_type": "code",
      "metadata": {
        "id": "q03_dQpYqere",
        "outputId": "0b90b522-e73e-4c1b-f5bd-2c785a0a1337",
        "colab": {
          "base_uri": "https://localhost:8080/",
          "height": 93
        }
      },
      "source": [
        "Image(\"/content/drive/My Drive/Udesc/2020 1/ISC/LAB/imagens/Lab6/ex2.png\", width=300)"
      ],
      "execution_count": null,
      "outputs": [
        {
          "output_type": "execute_result",
          "data": {
            "image/png": "[encoded data removed]",
            "text/plain": [
              "<IPython.core.display.Image object>"
            ]
          },
          "metadata": {
            "tags": [],
            "image/png": {
              "width": 300
            }
          },
          "execution_count": 4
        }
      ]
    },
    {
      "cell_type": "code",
      "metadata": {
        "id": "5X6YS-WiszWq",
        "outputId": "00085e4a-df81-42be-eb4d-f3e47c85d77c",
        "colab": {
          "base_uri": "https://localhost:8080/",
          "height": 367
        }
      },
      "source": [
        "num_step = [1]\n",
        "den_step = [1,0]\n",
        "step = signal.TransferFunction(num_step,den_step)\n",
        "\n",
        "#Definindo o sistema\n",
        "num1=[16]\n",
        "den1=[1, 4, 16]\n",
        "\n",
        "z1=12\n",
        "z2=6\n",
        "z3=4\n",
        "z4=2\n",
        "sys1_num = signal.convolve(num1,[1,z1])\n",
        "sys2_num = signal.convolve(num1,[1,z2])\n",
        "sys3_num = signal.convolve(num1,[1,z3])\n",
        "sys4_num = signal.convolve(num1,[1,z4])\n",
        "\n",
        "sys1_den = signal.convolve(den1,[z1])\n",
        "sys2_den = signal.convolve(den1,[z2])\n",
        "sys3_den = signal.convolve(den1,[z3])\n",
        "sys4_den = signal.convolve(den1,[z4])\n",
        "\n",
        "\n",
        "t = np.linspace(0,3,100)\n",
        "\n",
        "t,y1 = signal.step(signal.TransferFunction(num1,den1),0,t)\n",
        "t,y2 = signal.step(signal.TransferFunction(sys1_num,sys1_den),0,t)\n",
        "t,y3 = signal.step(signal.TransferFunction(sys2_num,sys2_den),0,t)\n",
        "t,y4 = signal.step(signal.TransferFunction(sys3_num,sys3_den),0,t)\n",
        "t,y5 = signal.step(signal.TransferFunction(sys4_num,sys4_den),0,t)\n",
        "\n",
        "\n",
        "t,y_stp = signal.impulse(step,0,t) \n",
        "\n",
        "plt.plot(t,y_stp, \"--y\", label='degrau')\n",
        "plt.plot(t, y1,  \"-r\", label='z = infinito ')\n",
        "plt.plot(t, y2,  \"-b\", label='z = 12 ')\n",
        "plt.plot(t, y3,  \"-y\", label='z = 6 ')\n",
        "plt.plot(t, y4,  \"-k\", label='z = 4 ')\n",
        "plt.plot(t, y5,  \"-c\", label='z = 2 ')\n",
        "\n",
        "\n",
        "plt.plot(t.take(y1.argmax()),y1.take(y1.argmax()), \"-k\", marker=\"o\",label='Ponto máximo')\n",
        "plt.plot(t.take(y2.argmax()),y2.take(y2.argmax()), \"-k\", marker=\"o\")\n",
        "plt.plot(t.take(y3.argmax()),y3.take(y3.argmax()), \"-k\", marker=\"o\")\n",
        "plt.plot(t.take(y4.argmax()),y4.take(y4.argmax()), \"-k\", marker=\"o\")\n",
        "plt.plot(t.take(y5.argmax()),y5.take(y5.argmax()), \"-k\", marker=\"o\")\n",
        "\n",
        "plt. legend(loc = 'best')\n",
        "plt.grid(axis='x', color='0.95')\n",
        "\n",
        "plt.show()\n",
        "\n",
        "print(\"Cmax1 = \", y1.max(), \"Tp = \", t[y1.argmax()])\n",
        "print(\"Cmax2 = \", y2.max(), \"Tp = \", t[y2.argmax()])\n",
        "print(\"Cmax3 = \", y3.max(), \"Tp = \", t[y3.argmax()])\n",
        "print(\"Cmax4 = \", y4.max(), \"Tp = \", t[y4.argmax()])\n",
        "print(\"Cmax5 = \", y5.max(), \"Tp = \", t[y5.argmax()])\n",
        "print(\"polos =\",control.pole(control.TransferFunction(sys1_num,sys1_den)))"
      ],
      "execution_count": null,
      "outputs": [
        {
          "output_type": "display_data",
          "data": {
            "image/png": "[encoded data removed]",
            "text/plain": [
              "<Figure size 432x288 with 1 Axes>"
            ]
          },
          "metadata": {
            "tags": [],
            "needs_background": "light"
          }
        },
        {
          "output_type": "stream",
          "text": [
            "Cmax1 =  1.1630272907056192 Tp =  0.9090909090909092\n",
            "Cmax2 =  1.1742303521382291 Tp =  0.8181818181818182\n",
            "Cmax3 =  1.2170755881377398 Tp =  0.696969696969697\n",
            "Cmax4 =  1.2984309742412719 Tp =  0.6060606060606061\n",
            "Cmax5 =  1.6993505734704828 Tp =  0.4545454545454546\n",
            "polos = [-2.+3.46410162j -2.-3.46410162j]\n"
          ],
          "name": "stdout"
        }
      ]
    },
    {
      "cell_type": "markdown",
      "metadata": {
        "id": "WDgcM23YI18h"
      },
      "source": [
        "O tempo de pico diminui e o valor de sobre sinal aumenta conforme o polo se aproxima da parte real dos polos"
      ]
    },
    {
      "cell_type": "markdown",
      "metadata": {
        "id": "Rg-x0skm2knM"
      },
      "source": [
        "##Equações para análise do sistema\n",
        "\n",
        "${G(s)=\\dfrac{\\omega_n^2}{s^2 + 2\\zeta \\omega_n + \\omega_n^2}}$\n",
        "\n",
        "${T_s = \\dfrac{4}{\\zeta \\omega_n}}$\n",
        "\n",
        "${T_p = \\dfrac{\\pi}{ \\omega_d}}$\n",
        "\n",
        "${\\omega_n = \\dfrac{\\omega_d}{\\sqrt{ 1 - \\zeta^2} }}$\n",
        "\n",
        "${\\zeta = \\dfrac{-ln(\\%OS/100)} {\\sqrt{\\pi^2 + ln^2(\\%OS/100)}}}$\n",
        "\n",
        "${\\%OS = \\dfrac{c_{máx} - c_{final}}{c_{final}}}$\n",
        "\n",
        "\n"
      ]
    },
    {
      "cell_type": "markdown",
      "metadata": {
        "id": "zLQ-xy0GNYWR"
      },
      "source": [
        "##Calculando os parâmetros a partir do gráfico"
      ]
    },
    {
      "cell_type": "code",
      "metadata": {
        "id": "3DXc3IXyhPnM",
        "outputId": "0999e248-a3f8-4b54-fa58-ca28ab4b7a34",
        "colab": {
          "base_uri": "https://localhost:8080/",
          "height": 102
        }
      },
      "source": [
        "#calulando tp\n",
        "tp1 = t[y1.argmax()]\n",
        "tp2 = t[y2.argmax()]\n",
        "tp3 = t[y3.argmax()]\n",
        "tp4 = t[y4.argmax()]\n",
        "tp5 = t[y5.argmax()]\n",
        "\n",
        "#calculando wd\n",
        "wd1=np.pi/t[y1.argmax()]\n",
        "wd2=np.pi/t[y2.argmax()]\n",
        "wd3=np.pi/t[y3.argmax()]\n",
        "wd4=np.pi/t[y4.argmax()]\n",
        "wd5=np.pi/t[y5.argmax()]\n",
        "\n",
        "#calculando %OS\n",
        "os1 = (y1.max()-1)*100\n",
        "os2 = (y2.max()-1)*100\n",
        "os3 = (y3.max()-1)*100\n",
        "os4 = (y4.max()-1)*100\n",
        "os5 = (y5.max()-1)*100\n",
        "\n",
        "#Calculando zeta\n",
        "z1 = - np.log(os1/100)/np.sqrt(np.pi**2 + np.log(os1/100)**2)\n",
        "z2 = - np.log(os2/100)/np.sqrt(np.pi**2 + np.log(os2/100)**2)\n",
        "z3 = - np.log(os3/100)/np.sqrt(np.pi**2 + np.log(os3/100)**2)\n",
        "z4 = - np.log(os4/100)/np.sqrt(np.pi**2 + np.log(os4/100)**2)\n",
        "z5 = - np.log(os5/100)/np.sqrt(np.pi**2 + np.log(os5/100)**2)\n",
        "\n",
        "#Calculando wn\n",
        "wn1= wd1/(np.sqrt(1-z1**2))\n",
        "wn2= wd2/(np.sqrt(1-z2**2))\n",
        "wn3= wd3/(np.sqrt(1-z3**2))\n",
        "wn4= wd4/(np.sqrt(1-z4**2))\n",
        "wn5= wd5/(np.sqrt(1-z5**2))\n",
        "\n",
        "#Calculando Ts\n",
        "ts1= 4/(z1*wn1)\n",
        "ts2= 4/(z2*wn2)\n",
        "ts3= 4/(z3*wn3)\n",
        "ts4= 4/(z4*wn4)\n",
        "ts5= 4/(z5*wn5)\n",
        "\n",
        "#Calculando Tr\n",
        "tr1 = t.take(y1.searchsorted(0.9))-t.take(y1.searchsorted(0.1))\n",
        "tr2 = t.take(y2.searchsorted(0.9))-t.take(y2.searchsorted(0.1))\n",
        "tr3 = t.take(y3.searchsorted(0.9))-t.take(y3.searchsorted(0.1))\n",
        "tr4 = t.take(y4.searchsorted(0.9))-t.take(y4.searchsorted(0.1))\n",
        "tr5 = t.take(y5.searchsorted(0.9))-t.take(y5.searchsorted(0.1))\n",
        "\n",
        "#Printando os valores\n",
        "print(\"Sistema 1: Ts = \",\"{:f}\".format(ts1), \"Tp = \",\"{:f}\".format(tp1), \"Tr = \", \"{:f}\".format(tr1) , \"wd = \",\"{:f}\".format(wd1) ,\"%OS = \",\"{:f}\".format(os1), \"zeta = \",\"{:f}\".format(z1) , \"wn = \",\"{:f}\".format(wn1))\n",
        "print(\"Sistema 2: Ts = \", \"{:f}\".format(ts2), \"Tp = \",\"{:f}\".format(tp2), \"Tr = \", \"{:f}\".format(tr2) , \"wd = \",\"{:f}\".format(wd2) ,\"%OS = \",\"{:f}\".format(os2), \"zeta = \",\"{:f}\".format(z2) , \"wn = \",\"{:f}\".format(wn2))\n",
        "print(\"Sistema 3: Ts = \", \"{:f}\".format(ts3), \"Tp = \",\"{:f}\".format(tp3), \"Tr = \", \"{:f}\".format(tr3) , \"wd = \",\"{:f}\".format(wd3) ,\"%OS = \",\"{:f}\".format(os3), \"zeta = \",\"{:f}\".format(z3) , \"wn = \",\"{:f}\".format(wn3))\n",
        "print(\"Sistema 4: Ts = \", \"{:f}\".format(ts4), \"Tp = \",\"{:f}\".format(tp4), \"Tr = \", \"{:f}\".format(tr4) , \"wd = \",\"{:f}\".format(wd4) ,\"%OS = \",\"{:f}\".format(os4), \"zeta = \",\"{:f}\".format(z4) , \"wn = \",\"{:f}\".format(wn4))\n",
        "print(\"Sistema 5: Ts = \", \"{:f}\".format(ts5), \"Tp = \",\"{:f}\".format(tp5), \"Tr = \", \"{:f}\".format(tr5) , \"wd = \",\"{:f}\".format(wd5) ,\"%OS = \",\"{:f}\".format(os5), \"zeta = \",\"{:f}\".format(z5) , \"wn = \",\"{:f}\".format(wn5))\n"
      ],
      "execution_count": null,
      "outputs": [
        {
          "output_type": "stream",
          "text": [
            "Sistema 1: Ts =  2.004790 Tp =  0.909091 Tr =  0.393939 wd =  3.455752 %OS =  16.302729 zeta =  0.500008 wn =  3.990380\n",
            "Sistema 2: Ts =  1.872937 Tp =  0.818182 Tr =  0.363636 wd =  3.839724 %OS =  17.423035 zeta =  0.486078 wn =  4.393703\n",
            "Sistema 3: Ts =  1.825114 Tp =  0.696970 Tr =  0.303030 wd =  4.507503 %OS =  21.707559 zeta =  0.437273 wn =  5.012074\n",
            "Sistema 4: Ts =  2.004804 Tp =  0.606061 Tr =  0.242424 wd =  5.183628 %OS =  29.843097 zeta =  0.359215 wn =  5.554354\n",
            "Sistema 5: Ts =  5.084357 Tp =  0.454545 Tr =  0.121212 wd =  6.911504 %OS =  69.935057 zeta =  0.113098 wn =  6.956136\n"
          ],
          "name": "stdout"
        }
      ]
    },
    {
      "cell_type": "markdown",
      "metadata": {
        "id": "6TiUZBfnBeZF"
      },
      "source": [
        "#Exercicio 3\n"
      ]
    },
    {
      "cell_type": "code",
      "metadata": {
        "id": "9c3ck3nV4yho",
        "outputId": "f23092dc-548f-4143-9ace-dc6e65740815",
        "colab": {
          "base_uri": "https://localhost:8080/",
          "height": 95
        }
      },
      "source": [
        "Image(\"/content/drive/My Drive/Udesc/2020 1/ISC/LAB/imagens/Lab6/ex3.png\", width=300)"
      ],
      "execution_count": null,
      "outputs": [
        {
          "output_type": "execute_result",
          "data": {
            "image/png": "[encoded data removed]",
            "text/plain": [
              "<IPython.core.display.Image object>"
            ]
          },
          "metadata": {
            "tags": [],
            "image/png": {
              "width": 300
            }
          },
          "execution_count": 5
        }
      ]
    },
    {
      "cell_type": "markdown",
      "metadata": {
        "id": "NWRe-Y-Kk9Lt"
      },
      "source": [
        "##Plotando o gráfico"
      ]
    },
    {
      "cell_type": "code",
      "metadata": {
        "id": "jHO7qBPDcg2K",
        "outputId": "e7b41260-c171-4c58-999a-7ae457b3e283",
        "colab": {
          "base_uri": "https://localhost:8080/",
          "height": 351
        }
      },
      "source": [
        "num_step = [1]\n",
        "den_step = [1,0]\n",
        "step = signal.TransferFunction(num_step,den_step)\n",
        "\n",
        "#Definindo o sistema\n",
        "num1=[16]\n",
        "den1=[1, 4, 16]\n",
        "\n",
        "z1=12\n",
        "z2=6\n",
        "z3=4\n",
        "z4=2\n",
        "sys1_num = signal.convolve(num1,[z1])\n",
        "sys2_num = signal.convolve(num1,[z2])\n",
        "sys3_num = signal.convolve(num1,[z3])\n",
        "sys4_num = signal.convolve(num1,[z4])\n",
        "\n",
        "sys1_den = signal.convolve(den1,[1,z1])\n",
        "sys2_den = signal.convolve(den1,[1,z2])\n",
        "sys3_den = signal.convolve(den1,[1,z3])\n",
        "sys4_den = signal.convolve(den1,[1,z4])\n",
        "\n",
        "\n",
        "t = np.linspace(0,3,100)\n",
        "\n",
        "t,y1 = signal.step(signal.TransferFunction(num1,den1),0,t)\n",
        "t,y2 = signal.step(signal.TransferFunction(sys1_num,sys1_den),0,t)\n",
        "t,y3 = signal.step(signal.TransferFunction(sys2_num,sys2_den),0,t)\n",
        "t,y4 = signal.step(signal.TransferFunction(sys3_num,sys3_den),0,t)\n",
        "t,y5 = signal.step(signal.TransferFunction(sys4_num,sys4_den),0,t)\n",
        "\n",
        "\n",
        "t,y_stp = signal.impulse(step,0,t) \n",
        "\n",
        "plt.plot(t,y_stp, \"--y\", label='degrau')\n",
        "plt.plot(t, y1,  \"-r\", label='z = infinito ')\n",
        "plt.plot(t, y2,  \"-b\", label='z = 12 ')\n",
        "plt.plot(t, y3,  \"-y\", label='z = 6 ')\n",
        "plt.plot(t, y4,  \"-k\", label='z = 4 ')\n",
        "plt.plot(t, y5,  \"-c\", label='z = 2 ')\n",
        "\n",
        "plt.plot(t.take(y1.argmax()),y1.take(y1.argmax()), \"-k\", marker=\"o\",label='Ponto máximo')\n",
        "plt.plot(t.take(y2.argmax()),y2.take(y2.argmax()), \"-k\", marker=\"o\")\n",
        "plt.plot(t.take(y3.argmax()),y3.take(y3.argmax()), \"-k\", marker=\"o\")\n",
        "plt.plot(t.take(y4.argmax()),y4.take(y4.argmax()), \"-k\", marker=\"o\")\n",
        "plt.plot(t.take(y5.argmax()),y5.take(y5.argmax()), \"-k\", marker=\"o\")\n",
        "\n",
        "plt. legend(loc = 'best')\n",
        "plt.grid(axis='x', color='0.95')\n",
        "\n",
        "plt.show()\n",
        "\n",
        "print(\"Cmax1 = \", y1.max(), \"Tp = \", t[y1.argmax()])\n",
        "print(\"Cmax2 = \", y2.max(), \"Tp = \", t[y2.argmax()])\n",
        "print(\"Cmax3 = \", y3.max(), \"Tp = \", t[y3.argmax()])\n",
        "print(\"Cmax4 = \", y4.max(), \"Tp = \", t[y4.argmax()])\n",
        "print(\"Cmax5 = \", y5.max(), \"Tp = \", t[y5.argmax()])\n",
        "\n",
        "\n",
        "\n"
      ],
      "execution_count": null,
      "outputs": [
        {
          "output_type": "display_data",
          "data": {
            "image/png": "[encoded data removed]",
            "text/plain": [
              "<Figure size 432x288 with 1 Axes>"
            ]
          },
          "metadata": {
            "tags": [],
            "needs_background": "light"
          }
        },
        {
          "output_type": "stream",
          "text": [
            "Cmax1 =  1.1630272907056192 Tp =  0.9090909090909092\n",
            "Cmax2 =  1.1524743007853875 Tp =  1.0\n",
            "Cmax3 =  1.1216797491965924 Tp =  1.1212121212121213\n",
            "Cmax4 =  1.0813671144517563 Tp =  1.2424242424242424\n",
            "Cmax5 =  0.9974047301657839 Tp =  3.0\n"
          ],
          "name": "stdout"
        }
      ]
    },
    {
      "cell_type": "markdown",
      "metadata": {
        "id": "QOPnVGJsK-R8"
      },
      "source": [
        "Conforme o polo adicionado vai se aproximando da parte real dos polos do sistema o pico diminui, e o tempo de pico aumenta."
      ]
    },
    {
      "cell_type": "markdown",
      "metadata": {
        "id": "1RNEpa29qyJe"
      },
      "source": [
        "##Equções para a análise do sistema\n",
        "\n",
        "${G(s)=\\dfrac{\\omega_n^2}{s^2 + 2\\zeta \\omega_n + \\omega_n^2}}$\n",
        "\n",
        "${T_s = \\dfrac{4}{\\zeta \\omega_n}}$\n",
        "\n",
        "${T_p = \\dfrac{\\pi}{ \\omega_d}}$\n",
        "\n",
        "${\\omega_n = \\dfrac{\\omega_d}{\\sqrt{ 1 - \\zeta^2} }}$\n",
        "\n",
        "${\\zeta = \\dfrac{-ln(\\%OS/100)} {\\sqrt{\\pi^2 + ln^2(\\%OS/100)}}}$\n",
        "\n",
        "${\\%OS = \\dfrac{c_{máx} - c_{final}}{c_{final}}}$\n",
        "\n",
        "\n"
      ]
    },
    {
      "cell_type": "markdown",
      "metadata": {
        "id": "To08uIHZM93D"
      },
      "source": [
        "##Calculando os parâmetros a partir do gráfico"
      ]
    },
    {
      "cell_type": "code",
      "metadata": {
        "id": "2aMSTtvR9uZg",
        "outputId": "dffd4fd6-d279-4bb2-d2e6-bbf6ac04d804",
        "colab": {
          "base_uri": "https://localhost:8080/",
          "height": 102
        }
      },
      "source": [
        "#calulando tp\n",
        "tp1 = t[y1.argmax()]\n",
        "tp2 = t[y2.argmax()]\n",
        "tp3 = t[y3.argmax()]\n",
        "tp4 = t[y4.argmax()]\n",
        "tp5 = t[y5.argmax()]\n",
        "\n",
        "#calculando wd\n",
        "wd1=np.pi/t[y1.argmax()]\n",
        "wd2=np.pi/t[y2.argmax()]\n",
        "wd3=np.pi/t[y3.argmax()]\n",
        "wd4=np.pi/t[y4.argmax()]\n",
        "wd5=np.pi/t[y5.argmax()]\n",
        "\n",
        "#calculando %OS\n",
        "os1 = (y1.max()-1)*100\n",
        "os2 = (y2.max()-1)*100\n",
        "os3 = (y3.max()-1)*100\n",
        "os4 = (y4.max()-1)*100\n",
        "os5 = (y5.max()-1)*100\n",
        "\n",
        "#Calculando zeta\n",
        "z1 = - np.log(os1/100)/np.sqrt(np.pi**2 + np.log(os1/100)**2)\n",
        "z2 = - np.log(os2/100)/np.sqrt(np.pi**2 + np.log(os2/100)**2)\n",
        "z3 = - np.log(os3/100)/np.sqrt(np.pi**2 + np.log(os3/100)**2)\n",
        "z4 = - np.log(os4/100)/np.sqrt(np.pi**2 + np.log(os4/100)**2)\n",
        "z5 = - np.log(os5/100)/np.sqrt(np.pi**2 + np.log(os5/100)**2)\n",
        "\n",
        "#Calculando wn\n",
        "wn1= wd1/(np.sqrt(1-z1**2))\n",
        "wn2= wd2/(np.sqrt(1-z2**2))\n",
        "wn3= wd3/(np.sqrt(1-z3**2))\n",
        "wn4= wd4/(np.sqrt(1-z4**2))\n",
        "wn5= wd5/(np.sqrt(1-z5**2))\n",
        "\n",
        "#Calculando Ts\n",
        "ts1= 4/(z1*wn1)\n",
        "ts2= 4/(z2*wn2)\n",
        "ts3= 4/(z3*wn3)\n",
        "ts4= 4/(z4*wn4)\n",
        "ts5= 4/(z5*wn5)\n",
        "\n",
        "#Calculando Tr\n",
        "tr1 = t.take(y1.searchsorted(0.9))-t.take(y1.searchsorted(0.1))\n",
        "tr2 = t.take(y2.searchsorted(0.9))-t.take(y2.searchsorted(0.1))\n",
        "tr3 = t.take(y3.searchsorted(0.9))-t.take(y3.searchsorted(0.1))\n",
        "tr4 = t.take(y4.searchsorted(0.9))-t.take(y4.searchsorted(0.1))\n",
        "tr5 = t.take(y5.searchsorted(0.9))-t.take(y5.searchsorted(0.1))\n",
        "\n",
        "#Printando os valores\n",
        "print(\"Sistema 1: Ts = \",\"{:f}\".format(ts1), \"Tp = \",\"{:f}\".format(tp1), \"Tr = \", \"{:f}\".format(tr1) , \"wd = \",\"{:f}\".format(wd1) ,\"%OS = \",\"{:f}\".format(os1), \"zeta = \",\"{:f}\".format(z1) , \"wn = \",\"{:f}\".format(wn1))\n",
        "print(\"Sistema 2: Ts = \", \"{:f}\".format(ts2), \"Tp = \",\"{:f}\".format(tp2), \"Tr = \", \"{:f}\".format(tr2) , \"wd = \",\"{:f}\".format(wd2) ,\"%OS = \",\"{:f}\".format(os2), \"zeta = \",\"{:f}\".format(z2) , \"wn = \",\"{:f}\".format(wn2))\n",
        "print(\"Sistema 3: Ts = \", \"{:f}\".format(ts3), \"Tp = \",\"{:f}\".format(tp3), \"Tr = \", \"{:f}\".format(tr3) , \"wd = \",\"{:f}\".format(wd3) ,\"%OS = \",\"{:f}\".format(os3), \"zeta = \",\"{:f}\".format(z3) , \"wn = \",\"{:f}\".format(wn3))\n",
        "print(\"Sistema 4: Ts = \", \"{:f}\".format(ts4), \"Tp = \",\"{:f}\".format(tp4), \"Tr = \", \"{:f}\".format(tr4) , \"wd = \",\"{:f}\".format(wd4) ,\"%OS = \",\"{:f}\".format(os4), \"zeta = \",\"{:f}\".format(z4) , \"wn = \",\"{:f}\".format(wn4))\n",
        "print(\"Sistema 5: Ts = \", \"{:f}\".format(ts5), \"Tp = \",\"{:f}\".format(tp5), \"Tr = \", \"{:f}\".format(tr5) , \"wd = \",\"{:f}\".format(wd5) ,\"%OS = \",\"{:f}\".format(os5), \"zeta = \",\"{:f}\".format(z5) , \"wn = \",\"{:f}\".format(wn5))"
      ],
      "execution_count": null,
      "outputs": [
        {
          "output_type": "stream",
          "text": [
            "Sistema 1: Ts =  2.004790 Tp =  0.909091 Tr =  0.393939 wd =  3.455752 %OS =  16.302729 zeta =  0.500008 wn =  3.990380\n",
            "Sistema 2: Ts =  1.872937 Tp =  0.818182 Tr =  0.363636 wd =  3.839724 %OS =  17.423035 zeta =  0.486078 wn =  4.393703\n",
            "Sistema 3: Ts =  1.825114 Tp =  0.696970 Tr =  0.303030 wd =  4.507503 %OS =  21.707559 zeta =  0.437273 wn =  5.012074\n",
            "Sistema 4: Ts =  2.004804 Tp =  0.606061 Tr =  0.242424 wd =  5.183628 %OS =  29.843097 zeta =  0.359215 wn =  5.554354\n",
            "Sistema 5: Ts =  5.084357 Tp =  0.454545 Tr =  0.121212 wd =  6.911504 %OS =  69.935057 zeta =  0.113098 wn =  6.956136\n"
          ],
          "name": "stdout"
        }
      ]
    },
    {
      "cell_type": "markdown",
      "metadata": {
        "id": "-nmwDH7xE00X"
      },
      "source": [
        "#Exercicio 4"
      ]
    },
    {
      "cell_type": "code",
      "metadata": {
        "id": "5ZMkVrM_420k",
        "outputId": "7d7e6da8-ac81-4e50-bf0b-3b0c336d5846",
        "colab": {
          "base_uri": "https://localhost:8080/",
          "height": 103
        }
      },
      "source": [
        "Image(\"/content/drive/My Drive/Udesc/2020 1/ISC/LAB/imagens/Lab6/ex4.png\", width=300)"
      ],
      "execution_count": null,
      "outputs": [
        {
          "output_type": "execute_result",
          "data": {
            "image/png": "[encoded data removed]",
            "text/plain": [
              "<IPython.core.display.Image object>"
            ]
          },
          "metadata": {
            "tags": [],
            "image/png": {
              "width": 300
            }
          },
          "execution_count": 6
        }
      ]
    },
    {
      "cell_type": "code",
      "metadata": {
        "id": "7PaePQFPtomw",
        "outputId": "1b3e7422-ad49-4b96-b115-f36f0818fad9",
        "colab": {
          "base_uri": "https://localhost:8080/",
          "height": 282
        }
      },
      "source": [
        "num_step = [1]\n",
        "den_step = [1,0]\n",
        "step = signal.TransferFunction(num_step,den_step)\n",
        "\n",
        "#Definindo o sistema\n",
        "num1=[16]\n",
        "den1= signal.convolve(signal.convolve([1,2],[1,8]),[1,0])\n",
        "sys = control.TransferFunction(num1,den1)\n",
        "t = np.linspace(0,3,100)\n",
        "\n",
        "t,y1 = control.step_response(control.feedback(sys,sys2=1,sign=-1))\n",
        "\n",
        "t,y_stp = signal.impulse(step,0,t) \n",
        "\n",
        "plt.plot(t,y_stp, \"--y\", label='degrau')\n",
        "plt.plot(t, y1,  \"-r\", label='Sistema ')\n",
        "\n",
        "plt.plot(t.take(y1.argmax()),y1.take(y1.argmax()), \"-k\", marker=\"o\",label='Ponto máximo')\n",
        "\n",
        "\n",
        "plt. legend(loc = 'best')\n",
        "plt.grid(axis='x', color='0.95')\n",
        "\n",
        "plt.show()\n",
        "\n",
        "print(\"Cmax1 = \", y1.max(), \"Tp = \", t[y1.argmax()])\n"
      ],
      "execution_count": null,
      "outputs": [
        {
          "output_type": "display_data",
          "data": {
            "image/png": "[encoded data removed]",
            "text/plain": [
              "<Figure size 432x288 with 1 Axes>"
            ]
          },
          "metadata": {
            "tags": [],
            "needs_background": "light"
          }
        },
        {
          "output_type": "stream",
          "text": [
            "Cmax1 =  1.0874031853819732 Tp =  3.004399392068401\n"
          ],
          "name": "stdout"
        }
      ]
    },
    {
      "cell_type": "markdown",
      "metadata": {
        "id": "OE35w--3MthK"
      },
      "source": [
        "##Calculando os parâmetros a partir do gráfico"
      ]
    },
    {
      "cell_type": "code",
      "metadata": {
        "id": "9-yOThGbxJ1p",
        "outputId": "794d5364-0649-4a02-e2b8-e711ee3cdc1f",
        "colab": {
          "base_uri": "https://localhost:8080/",
          "height": 51
        }
      },
      "source": [
        "#calulando tp\n",
        "tp1 = t[y1.argmax()]\n",
        "\n",
        "#calculando wd\n",
        "wd1=np.pi/t[y1.argmax()]\n",
        "\n",
        "#calculando %OS\n",
        "os1 = (y1.max()-1)*100\n",
        "\n",
        "#Calculando zeta\n",
        "z1 = - np.log(os1/100)/np.sqrt(np.pi**2 + np.log(os1/100)**2)\n",
        "\n",
        "#Calculando wn\n",
        "wn1= wd1/(np.sqrt(1-z1**2))\n",
        "\n",
        "#Calculando Ts\n",
        "ts1= 4/(z1*wn1)\n",
        "\n",
        "#Calculando Tr\n",
        "tr1 = t.take(y1.searchsorted(0.9))-t.take(y1.searchsorted(0.1))\n",
        "\n",
        "#Calculando parâmetros\n",
        "a = 2*z1*wn1\n",
        "b = wn1**2\n",
        "#Printando os valores\n",
        "print(\"Sistema 1: Ts = \",\"{:f}\".format(ts1), \"Tp = \",\"{:f}\".format(tp1), \"Tr = \", \"{:f}\".format(tr1) , \"wd = \",\"{:f}\".format(wd1) ,\"%OS = \",\"{:f}\".format(os1), \"zeta = \",\"{:f}\".format(z1) , \"wn = \",\"{:f}\".format(wn1))\n",
        "print(\"a = \", \"{:f}\".format(a), \"b = \",\"{:f}\".format(b))"
      ],
      "execution_count": null,
      "outputs": [
        {
          "output_type": "stream",
          "text": [
            "Sistema 1: Ts =  4.930856 Tp =  3.004399 Tr =  1.418744 wd =  1.045664 %OS =  8.740319 zeta =  0.612963 wn =  1.323438\n",
            "a =  1.622436 b =  1.751488\n"
          ],
          "name": "stdout"
        }
      ]
    },
    {
      "cell_type": "markdown",
      "metadata": {
        "id": "PK9ksQDqxvL1"
      },
      "source": [
        "##Aproximação de segunda ordem\n",
        "\n",
        "${\\dfrac{C(s)}{R(s)} = \\dfrac{b}{s^2 + as + b} =\\dfrac{\\omega_n^2}{s^2 + 2 \\zeta \\omega_n s + \\omega_n^2}} = \\dfrac{1,7515}{s^2 + 1,6224s + 1,7515}$"
      ]
    },
    {
      "cell_type": "code",
      "metadata": {
        "id": "csyIccgTzjTD",
        "outputId": "52f12ff8-6466-4866-86b1-4e395dd7d7e8",
        "colab": {
          "base_uri": "https://localhost:8080/",
          "height": 282
        }
      },
      "source": [
        "num_step = [1]\n",
        "den_step = [1,0]\n",
        "step = signal.TransferFunction(num_step,den_step)\n",
        "\n",
        "#Definindo o sistema\n",
        "num1=[16]\n",
        "den1= signal.convolve(signal.convolve([1,2],[1,8]),[1,0])\n",
        "sys = control.TransferFunction(num1,den1)\n",
        "\n",
        "num2=[b]\n",
        "den2= [1,a,b]\n",
        "\n",
        "\n",
        "t = np.linspace(0,3,100)\n",
        "\n",
        "t,y1 = control.step_response(control.feedback(sys,sys2=1,sign=-1))\n",
        "t,y2 = signal.step(signal.TransferFunction(num2,den2),0,t)\n",
        "\n",
        "t,y_stp = signal.impulse(step,0,t) \n",
        "\n",
        "plt.plot(t,y_stp, \"--y\", label='degrau')\n",
        "plt.plot(t, y1,  \"-r\", label='Sistema ')\n",
        "plt.plot(t, y2,  \"-c\", label='Aproximação')\n",
        "\n",
        "plt.plot(t.take(y1.argmax()),y1.take(y1.argmax()), \"-k\", marker=\"o\",label='Ponto máximo')\n",
        "\n",
        "\n",
        "plt. legend(loc = 'best')\n",
        "plt.grid(axis='x', color='0.95')\n",
        "\n",
        "plt.show()\n",
        "\n",
        "print(\"Cmax1 = \", y1.max(), \"Tp = \", t[y1.argmax()])"
      ],
      "execution_count": null,
      "outputs": [
        {
          "output_type": "display_data",
          "data": {
            "image/png": "[encoded data removed]",
            "text/plain": [
              "<Figure size 432x288 with 1 Axes>"
            ]
          },
          "metadata": {
            "tags": [],
            "needs_background": "light"
          }
        },
        {
          "output_type": "stream",
          "text": [
            "Cmax1 =  1.0874031853819732 Tp =  3.004399392068401\n"
          ],
          "name": "stdout"
        }
      ]
    },
    {
      "cell_type": "markdown",
      "metadata": {
        "id": "t2sunxD3MSeW"
      },
      "source": [
        "A aproximação considerada é adequada. Pois, observando o gráfico, é possível perceber que a resposta do sistema e da aprooximação ficaram bem próximas uma da outra."
      ]
    }
  ]
}